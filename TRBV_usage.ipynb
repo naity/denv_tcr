{
 "cells": [
  {
   "cell_type": "code",
   "execution_count": 1,
   "metadata": {},
   "outputs": [],
   "source": [
    "import pandas as pd\n",
    "import glob\n",
    "\n",
    "import colorlover as cl\n",
    "\n",
    "import matplotlib.pyplot as plt\n",
    "import seaborn as sns\n",
    "%matplotlib inline\n",
    "\n",
    "import plotly\n",
    "plotly.tools.set_credentials_file(username='iverson3', api_key='gE3StFoPy53qjW3ReF68')"
   ]
  },
  {
   "cell_type": "markdown",
   "metadata": {},
   "source": [
    "## Data processing"
   ]
  },
  {
   "cell_type": "code",
   "execution_count": 2,
   "metadata": {},
   "outputs": [],
   "source": [
    "files = glob.glob(\"*.fancyvj.wt.txt\")"
   ]
  },
  {
   "cell_type": "code",
   "execution_count": 3,
   "metadata": {},
   "outputs": [
    {
     "data": {
      "text/html": [
       "<div>\n",
       "<style scoped>\n",
       "    .dataframe tbody tr th:only-of-type {\n",
       "        vertical-align: middle;\n",
       "    }\n",
       "\n",
       "    .dataframe tbody tr th {\n",
       "        vertical-align: top;\n",
       "    }\n",
       "\n",
       "    .dataframe thead th {\n",
       "        text-align: right;\n",
       "    }\n",
       "</style>\n",
       "<table border=\"1\" class=\"dataframe\">\n",
       "  <thead>\n",
       "    <tr style=\"text-align: right;\">\n",
       "      <th></th>\n",
       "      <th>sample_id</th>\n",
       "      <th>donor</th>\n",
       "      <th>condition</th>\n",
       "      <th>subset</th>\n",
       "      <th>..filter..</th>\n",
       "    </tr>\n",
       "    <tr>\n",
       "      <th>file_name</th>\n",
       "      <th></th>\n",
       "      <th></th>\n",
       "      <th></th>\n",
       "      <th></th>\n",
       "      <th></th>\n",
       "    </tr>\n",
       "  </thead>\n",
       "  <tbody>\n",
       "    <tr>\n",
       "      <th>026.txt</th>\n",
       "      <td>26</td>\n",
       "      <td>GS1168</td>\n",
       "      <td>Bulk</td>\n",
       "      <td>TEM</td>\n",
       "      <td>conv:MiXcr</td>\n",
       "    </tr>\n",
       "    <tr>\n",
       "      <th>003.txt</th>\n",
       "      <td>3</td>\n",
       "      <td>GS1180</td>\n",
       "      <td>Bulk</td>\n",
       "      <td>TEMRA</td>\n",
       "      <td>conv:MiXcr</td>\n",
       "    </tr>\n",
       "    <tr>\n",
       "      <th>002.txt</th>\n",
       "      <td>2</td>\n",
       "      <td>GS1180</td>\n",
       "      <td>Bulk</td>\n",
       "      <td>TEM</td>\n",
       "      <td>conv:MiXcr</td>\n",
       "    </tr>\n",
       "    <tr>\n",
       "      <th>015.txt</th>\n",
       "      <td>15</td>\n",
       "      <td>GS1149</td>\n",
       "      <td>MHCI_IFNgamma_pos</td>\n",
       "      <td>TEM</td>\n",
       "      <td>conv:MiXcr</td>\n",
       "    </tr>\n",
       "    <tr>\n",
       "      <th>081.txt</th>\n",
       "      <td>81</td>\n",
       "      <td>GS1188</td>\n",
       "      <td>MHCI_IFNgamma_pos</td>\n",
       "      <td>TEMRA</td>\n",
       "      <td>conv:MiXcr</td>\n",
       "    </tr>\n",
       "  </tbody>\n",
       "</table>\n",
       "</div>"
      ],
      "text/plain": [
       "           sample_id   donor          condition subset  ..filter..\n",
       "file_name                                                         \n",
       "026.txt           26  GS1168               Bulk    TEM  conv:MiXcr\n",
       "003.txt            3  GS1180               Bulk  TEMRA  conv:MiXcr\n",
       "002.txt            2  GS1180               Bulk    TEM  conv:MiXcr\n",
       "015.txt           15  GS1149  MHCI_IFNgamma_pos    TEM  conv:MiXcr\n",
       "081.txt           81  GS1188  MHCI_IFNgamma_pos  TEMRA  conv:MiXcr"
      ]
     },
     "execution_count": 3,
     "metadata": {},
     "output_type": "execute_result"
    }
   ],
   "source": [
    "# read metadata\n",
    "meta = pd.read_csv(\"metadata.txt\", sep=\"\\t\", index_col=0)\n",
    "meta.head() "
   ]
  },
  {
   "cell_type": "code",
   "execution_count": 4,
   "metadata": {},
   "outputs": [],
   "source": [
    "def get_v_freq (file):\n",
    "    df = pd.read_csv(file, sep=\"\\t\", index_col=0)\n",
    "    v_sums = df.sum(axis=0)\n",
    "    \n",
    "    return v_sums"
   ]
  },
  {
   "cell_type": "code",
   "execution_count": 5,
   "metadata": {},
   "outputs": [],
   "source": [
    "donor_vs = {}\n",
    "\n",
    "for file in files:\n",
    "    file_name = file.split(\".\")[0] + \".txt\"\n",
    "    donor = meta.loc[file_name, \"donor\"]\n",
    "    condition = meta.loc[file_name, \"condition\"]\n",
    "    subset = meta.loc[file_name, \"subset\"]\n",
    "    sample_name = \"_\".join([condition, subset])\n",
    "    v_freq = get_v_freq(file)\n",
    "    v_freq = v_freq.to_frame(name=sample_name)\n",
    "    \n",
    "    if donor in donor_vs:\n",
    "        donor_vs[donor] = pd.concat([donor_vs[donor], v_freq], axis=1, sort=False)\n",
    "    else:\n",
    "        donor_vs[donor] = v_freq"
   ]
  },
  {
   "cell_type": "code",
   "execution_count": 6,
   "metadata": {},
   "outputs": [],
   "source": [
    "def sort_v_name(v):\n",
    "    v = v[4:].split(\"-\")\n",
    "    if len(v) == 1:\n",
    "        return (int(v[0]), 0)\n",
    "    else:\n",
    "        return (int(v[0]), int(v[1]))\n",
    "    \n",
    "for k, v in donor_vs.items():\n",
    "    # rearrange columns\n",
    "    v = v[[\"Bulk_TEM\", \"MHCI_IFNgamma_pos_TEM\", \"Bulk_TEMRA\", \"MHCI_IFNgamma_pos_TEMRA\"]]\n",
    "    \n",
    "    # rename\n",
    "    v.rename(columns={\n",
    "        \"Bulk_TEM\": \"Unstimulated Tem\",\n",
    "        \"MHCI_IFNgamma_pos_TEM\": \"DENV Tem\",\n",
    "        \"Bulk_TEMRA\": \"Unstimulated Temra\",\n",
    "        \"MHCI_IFNgamma_pos_TEMRA\": \"DENV Temra\"\n",
    "    }, inplace=True)\n",
    "    \n",
    "    indices = v.index.values.tolist()\n",
    "    indices = sorted(indices, key=sort_v_name)\n",
    "    v = v.reindex(indices)\n",
    "\n",
    "    # replace nan with 0\n",
    "    v.fillna(0, inplace=True)\n",
    "    \n",
    "    # scale to 100%\n",
    "    v = v * 100\n",
    "    \n",
    "    # update\n",
    "    donor_vs[k] = v"
   ]
  },
  {
   "cell_type": "code",
   "execution_count": 7,
   "metadata": {},
   "outputs": [
    {
     "name": "stdout",
     "output_type": "stream",
     "text": [
      "47\n"
     ]
    }
   ],
   "source": [
    "# all v segments\n",
    "all_v = set()\n",
    "\n",
    "for v in donor_vs.values():\n",
    "    vs = set(v.index.values.tolist())\n",
    "    all_v |= vs\n",
    "\n",
    "all_v = list(all_v)\n",
    "print(len(all_v))"
   ]
  },
  {
   "cell_type": "code",
   "execution_count": 8,
   "metadata": {},
   "outputs": [],
   "source": [
    "# 50 colors\n",
    "paired = cl.scales['11']['qual']['Set3']\n",
    "paired50 = cl.interp(paired, 50)\n",
    "\n",
    "# each v segment gets a unique color\n",
    "v_colors = {all_v[i]:paired50[i] for i in range(len(all_v))}"
   ]
  },
  {
   "cell_type": "code",
   "execution_count": 9,
   "metadata": {},
   "outputs": [],
   "source": [
    "import plotly.plotly as py\n",
    "import plotly.graph_objs as go"
   ]
  },
  {
   "cell_type": "code",
   "execution_count": 10,
   "metadata": {},
   "outputs": [],
   "source": [
    "def plot_stacked_bar(k):\n",
    "    data = []\n",
    "    \n",
    "    v = donor_vs[k]\n",
    "    for index in v.index.values:\n",
    "        trace = go.Bar(\n",
    "            x=v.columns,\n",
    "            y=v.loc[index],\n",
    "            name=index,\n",
    "            marker=dict(color=v_colors[index]),\n",
    "        )\n",
    "        data.append(trace)\n",
    "\n",
    "    layout = go.Layout(\n",
    "        title=k,\n",
    "        barmode='stack',\n",
    "        legend=dict(traceorder='normal'),\n",
    "    )\n",
    "    \n",
    "    return (data, layout)"
   ]
  },
  {
   "cell_type": "markdown",
   "metadata": {},
   "source": [
    "## Plot the usage of V segments for each population in each individual donor. Please note that each V segment is represented by the same color in all the plots."
   ]
  },
  {
   "cell_type": "code",
   "execution_count": 11,
   "metadata": {},
   "outputs": [
    {
     "data": {
      "text/html": [
       "<iframe id=\"igraph\" scrolling=\"no\" style=\"border:none;\" seamless=\"seamless\" src=\"https://plot.ly/~iverson3/276.embed\" height=\"525px\" width=\"100%\"></iframe>"
      ],
      "text/plain": [
       "<plotly.tools.PlotlyDisplay object>"
      ]
     },
     "execution_count": 11,
     "metadata": {},
     "output_type": "execute_result"
    }
   ],
   "source": [
    "data, layout = plot_stacked_bar(\"GS1149\")\n",
    "fig = go.Figure(data=data, layout=layout)\n",
    "py.iplot(fig, filename=\"GS1149_bar\")"
   ]
  },
  {
   "cell_type": "code",
   "execution_count": 12,
   "metadata": {},
   "outputs": [
    {
     "data": {
      "text/html": [
       "<iframe id=\"igraph\" scrolling=\"no\" style=\"border:none;\" seamless=\"seamless\" src=\"https://plot.ly/~iverson3/278.embed\" height=\"525px\" width=\"100%\"></iframe>"
      ],
      "text/plain": [
       "<plotly.tools.PlotlyDisplay object>"
      ]
     },
     "execution_count": 12,
     "metadata": {},
     "output_type": "execute_result"
    }
   ],
   "source": [
    "data, layout = plot_stacked_bar(\"GS1168\")\n",
    "fig = go.Figure(data=data, layout=layout)\n",
    "py.iplot(fig, filename=\"GS1168_bar\")"
   ]
  },
  {
   "cell_type": "code",
   "execution_count": 13,
   "metadata": {},
   "outputs": [
    {
     "data": {
      "text/html": [
       "<iframe id=\"igraph\" scrolling=\"no\" style=\"border:none;\" seamless=\"seamless\" src=\"https://plot.ly/~iverson3/280.embed\" height=\"525px\" width=\"100%\"></iframe>"
      ],
      "text/plain": [
       "<plotly.tools.PlotlyDisplay object>"
      ]
     },
     "execution_count": 13,
     "metadata": {},
     "output_type": "execute_result"
    }
   ],
   "source": [
    "data, layout = plot_stacked_bar(\"GS1169\")\n",
    "fig = go.Figure(data=data, layout=layout)\n",
    "py.iplot(fig, filename=\"GS1169_bar\")"
   ]
  },
  {
   "cell_type": "code",
   "execution_count": 14,
   "metadata": {},
   "outputs": [
    {
     "data": {
      "text/html": [
       "<iframe id=\"igraph\" scrolling=\"no\" style=\"border:none;\" seamless=\"seamless\" src=\"https://plot.ly/~iverson3/282.embed\" height=\"525px\" width=\"100%\"></iframe>"
      ],
      "text/plain": [
       "<plotly.tools.PlotlyDisplay object>"
      ]
     },
     "execution_count": 14,
     "metadata": {},
     "output_type": "execute_result"
    }
   ],
   "source": [
    "data, layout = plot_stacked_bar(\"GS1178\")\n",
    "fig = go.Figure(data=data, layout=layout)\n",
    "py.iplot(fig, filename=\"GS1178_bar\")"
   ]
  },
  {
   "cell_type": "code",
   "execution_count": 15,
   "metadata": {},
   "outputs": [
    {
     "data": {
      "text/html": [
       "<iframe id=\"igraph\" scrolling=\"no\" style=\"border:none;\" seamless=\"seamless\" src=\"https://plot.ly/~iverson3/284.embed\" height=\"525px\" width=\"100%\"></iframe>"
      ],
      "text/plain": [
       "<plotly.tools.PlotlyDisplay object>"
      ]
     },
     "execution_count": 15,
     "metadata": {},
     "output_type": "execute_result"
    }
   ],
   "source": [
    "data, layout = plot_stacked_bar(\"GS1180\")\n",
    "fig = go.Figure(data=data, layout=layout)\n",
    "py.iplot(fig, filename=\"GS1180_bar\")"
   ]
  },
  {
   "cell_type": "code",
   "execution_count": 16,
   "metadata": {},
   "outputs": [
    {
     "data": {
      "text/html": [
       "<iframe id=\"igraph\" scrolling=\"no\" style=\"border:none;\" seamless=\"seamless\" src=\"https://plot.ly/~iverson3/286.embed\" height=\"525px\" width=\"100%\"></iframe>"
      ],
      "text/plain": [
       "<plotly.tools.PlotlyDisplay object>"
      ]
     },
     "execution_count": 16,
     "metadata": {},
     "output_type": "execute_result"
    }
   ],
   "source": [
    "data, layout = plot_stacked_bar(\"GS1188\")\n",
    "fig = go.Figure(data=data, layout=layout)\n",
    "py.iplot(fig, filename=\"GS1188_bar\")"
   ]
  },
  {
   "cell_type": "markdown",
   "metadata": {},
   "source": [
    "### Visualize the data using heatmaps"
   ]
  },
  {
   "cell_type": "code",
   "execution_count": 17,
   "metadata": {},
   "outputs": [],
   "source": [
    "def plot_heatmap(k):\n",
    "    v = donor_vs[k]\n",
    "    cols = v.columns.tolist()\n",
    "    cols.reverse()\n",
    "    trace = go.Heatmap(z=v[cols].transpose().values,\n",
    "                       x=v.index.values.tolist(),\n",
    "                       y=cols,\n",
    "                       name=k)\n",
    "    data=[trace]\n",
    "    \n",
    "    layout = go.Layout(\n",
    "        title=k,\n",
    "        margin=go.Margin(\n",
    "            l=150,\n",
    "        )\n",
    "    )\n",
    "    \n",
    "    return (data, layout)"
   ]
  },
  {
   "cell_type": "code",
   "execution_count": 18,
   "metadata": {},
   "outputs": [
    {
     "data": {
      "text/html": [
       "<iframe id=\"igraph\" scrolling=\"no\" style=\"border:none;\" seamless=\"seamless\" src=\"https://plot.ly/~iverson3/288.embed\" height=\"525px\" width=\"100%\"></iframe>"
      ],
      "text/plain": [
       "<plotly.tools.PlotlyDisplay object>"
      ]
     },
     "execution_count": 18,
     "metadata": {},
     "output_type": "execute_result"
    }
   ],
   "source": [
    "data, layout = plot_heatmap(\"GS1149\")\n",
    "fig = go.Figure(data=data, layout=layout)\n",
    "py.iplot(fig, filename='GS1149_heatmap')"
   ]
  },
  {
   "cell_type": "code",
   "execution_count": 19,
   "metadata": {},
   "outputs": [
    {
     "data": {
      "text/html": [
       "<iframe id=\"igraph\" scrolling=\"no\" style=\"border:none;\" seamless=\"seamless\" src=\"https://plot.ly/~iverson3/290.embed\" height=\"525px\" width=\"100%\"></iframe>"
      ],
      "text/plain": [
       "<plotly.tools.PlotlyDisplay object>"
      ]
     },
     "execution_count": 19,
     "metadata": {},
     "output_type": "execute_result"
    }
   ],
   "source": [
    "data, layout = plot_heatmap(\"GS1168\")\n",
    "fig = go.Figure(data=data, layout=layout)\n",
    "py.iplot(fig, filename='GS1168_heatmap')"
   ]
  },
  {
   "cell_type": "code",
   "execution_count": 20,
   "metadata": {},
   "outputs": [
    {
     "data": {
      "text/html": [
       "<iframe id=\"igraph\" scrolling=\"no\" style=\"border:none;\" seamless=\"seamless\" src=\"https://plot.ly/~iverson3/292.embed\" height=\"525px\" width=\"100%\"></iframe>"
      ],
      "text/plain": [
       "<plotly.tools.PlotlyDisplay object>"
      ]
     },
     "execution_count": 20,
     "metadata": {},
     "output_type": "execute_result"
    }
   ],
   "source": [
    "data, layout = plot_heatmap(\"GS1169\")\n",
    "fig = go.Figure(data=data, layout=layout)\n",
    "py.iplot(fig, filename='GS1169_heatmap')"
   ]
  },
  {
   "cell_type": "code",
   "execution_count": 21,
   "metadata": {},
   "outputs": [
    {
     "data": {
      "text/html": [
       "<iframe id=\"igraph\" scrolling=\"no\" style=\"border:none;\" seamless=\"seamless\" src=\"https://plot.ly/~iverson3/294.embed\" height=\"525px\" width=\"100%\"></iframe>"
      ],
      "text/plain": [
       "<plotly.tools.PlotlyDisplay object>"
      ]
     },
     "execution_count": 21,
     "metadata": {},
     "output_type": "execute_result"
    }
   ],
   "source": [
    "data, layout = plot_heatmap(\"GS1178\")\n",
    "fig = go.Figure(data=data, layout=layout)\n",
    "py.iplot(fig, filename='GS1178_heatmap')"
   ]
  },
  {
   "cell_type": "code",
   "execution_count": 22,
   "metadata": {},
   "outputs": [
    {
     "data": {
      "text/html": [
       "<iframe id=\"igraph\" scrolling=\"no\" style=\"border:none;\" seamless=\"seamless\" src=\"https://plot.ly/~iverson3/296.embed\" height=\"525px\" width=\"100%\"></iframe>"
      ],
      "text/plain": [
       "<plotly.tools.PlotlyDisplay object>"
      ]
     },
     "execution_count": 22,
     "metadata": {},
     "output_type": "execute_result"
    }
   ],
   "source": [
    "data, layout = plot_heatmap(\"GS1180\")\n",
    "fig = go.Figure(data=data, layout=layout)\n",
    "py.iplot(fig, filename='GS1180_heatmap')"
   ]
  },
  {
   "cell_type": "code",
   "execution_count": 23,
   "metadata": {},
   "outputs": [
    {
     "data": {
      "text/html": [
       "<iframe id=\"igraph\" scrolling=\"no\" style=\"border:none;\" seamless=\"seamless\" src=\"https://plot.ly/~iverson3/298.embed\" height=\"525px\" width=\"100%\"></iframe>"
      ],
      "text/plain": [
       "<plotly.tools.PlotlyDisplay object>"
      ]
     },
     "execution_count": 23,
     "metadata": {},
     "output_type": "execute_result"
    }
   ],
   "source": [
    "data, layout = plot_heatmap(\"GS1188\")\n",
    "fig = go.Figure(data=data, layout=layout)\n",
    "py.iplot(fig, filename='GS1188_heatmap')"
   ]
  },
  {
   "cell_type": "code",
   "execution_count": null,
   "metadata": {},
   "outputs": [],
   "source": []
  },
  {
   "cell_type": "code",
   "execution_count": null,
   "metadata": {},
   "outputs": [],
   "source": []
  }
 ],
 "metadata": {
  "kernelspec": {
   "display_name": "Python 3",
   "language": "python",
   "name": "python3"
  },
  "language_info": {
   "codemirror_mode": {
    "name": "ipython",
    "version": 3
   },
   "file_extension": ".py",
   "mimetype": "text/x-python",
   "name": "python",
   "nbconvert_exporter": "python",
   "pygments_lexer": "ipython3",
   "version": "3.6.5"
  }
 },
 "nbformat": 4,
 "nbformat_minor": 2
}
